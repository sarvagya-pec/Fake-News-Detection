{
 "cells": [
  {
   "cell_type": "markdown",
   "id": "6f62775e",
   "metadata": {},
   "source": [
    "# Fake News Detection using NLP"
   ]
  },
  {
   "cell_type": "markdown",
   "id": "54fe42f8",
   "metadata": {},
   "source": [
    "## Step 1: Import Necessary Libraries"
   ]
  },
  {
   "cell_type": "code",
   "execution_count": 1,
   "id": "1605f87e",
   "metadata": {},
   "outputs": [
    {
     "name": "stderr",
     "output_type": "stream",
     "text": [
      "[nltk_data] Downloading package punkt to\n",
      "[nltk_data]     C:\\Users\\LENOVO\\AppData\\Roaming\\nltk_data...\n",
      "[nltk_data]   Package punkt is already up-to-date!\n",
      "[nltk_data] Downloading package stopwords to\n",
      "[nltk_data]     C:\\Users\\LENOVO\\AppData\\Roaming\\nltk_data...\n",
      "[nltk_data]   Package stopwords is already up-to-date!\n"
     ]
    },
    {
     "data": {
      "text/plain": [
       "True"
      ]
     },
     "execution_count": 1,
     "metadata": {},
     "output_type": "execute_result"
    }
   ],
   "source": [
    "import pandas as pd\n",
    "import numpy as np\n",
    "from sklearn.model_selection import train_test_split\n",
    "from sklearn.feature_extraction.text import TfidfVectorizer\n",
    "from sklearn.naive_bayes import MultinomialNB\n",
    "from sklearn.metrics import accuracy_score, confusion_matrix, classification_report\n",
    "from sklearn.naive_bayes import MultinomialNB\n",
    "import matplotlib.pyplot as plt\n",
    "import seaborn as sns\n",
    "import nltk\n",
    "from nltk.corpus import stopwords\n",
    "nltk.download('punkt')\n",
    "nltk.download('stopwords')"
   ]
  },
  {
   "cell_type": "code",
   "execution_count": 2,
   "id": "795e8b45",
   "metadata": {},
   "outputs": [
    {
     "name": "stdout",
     "output_type": "stream",
     "text": [
      "Requirement already satisfied: bottleneck in c:\\users\\lenovo\\anaconda3\\lib\\site-packages (1.5.0)\n",
      "Requirement already satisfied: numpy in c:\\users\\lenovo\\anaconda3\\lib\\site-packages (from bottleneck) (1.25.2)\n"
     ]
    }
   ],
   "source": [
    "!pip install --upgrade bottleneck"
   ]
  },
  {
   "cell_type": "code",
   "execution_count": 3,
   "id": "c7af8473",
   "metadata": {},
   "outputs": [],
   "source": [
    "# Load the dataset\n",
    "true_df = pd.read_csv(\"C:\\\\Users\\\\LENOVO\\\\Downloads\\\\Intern project\\\\True.csv\")\n",
    "false_df = pd.read_csv(\"C:\\\\Users\\\\LENOVO\\\\Downloads\\\\Intern project\\\\Fake.csv\")\n",
    "\n",
    "# Add labels to indicate real and fake news\n",
    "true_df['label'] = 1\n",
    "false_df['label'] = 0\n",
    "\n",
    "# Concatenate both datasets\n",
    "data = pd.concat([true_df, false_df])"
   ]
  },
  {
   "cell_type": "code",
   "execution_count": 4,
   "id": "f546fe65",
   "metadata": {},
   "outputs": [
    {
     "data": {
      "text/html": [
       "<div>\n",
       "<style scoped>\n",
       "    .dataframe tbody tr th:only-of-type {\n",
       "        vertical-align: middle;\n",
       "    }\n",
       "\n",
       "    .dataframe tbody tr th {\n",
       "        vertical-align: top;\n",
       "    }\n",
       "\n",
       "    .dataframe thead th {\n",
       "        text-align: right;\n",
       "    }\n",
       "</style>\n",
       "<table border=\"1\" class=\"dataframe\">\n",
       "  <thead>\n",
       "    <tr style=\"text-align: right;\">\n",
       "      <th></th>\n",
       "      <th>title</th>\n",
       "      <th>text</th>\n",
       "      <th>subject</th>\n",
       "      <th>date</th>\n",
       "      <th>label</th>\n",
       "    </tr>\n",
       "  </thead>\n",
       "  <tbody>\n",
       "    <tr>\n",
       "      <th>0</th>\n",
       "      <td>As U.S. budget fight looms, Republicans flip t...</td>\n",
       "      <td>WASHINGTON (Reuters) - The head of a conservat...</td>\n",
       "      <td>politicsNews</td>\n",
       "      <td>December 31, 2017</td>\n",
       "      <td>1</td>\n",
       "    </tr>\n",
       "    <tr>\n",
       "      <th>1</th>\n",
       "      <td>U.S. military to accept transgender recruits o...</td>\n",
       "      <td>WASHINGTON (Reuters) - Transgender people will...</td>\n",
       "      <td>politicsNews</td>\n",
       "      <td>December 29, 2017</td>\n",
       "      <td>1</td>\n",
       "    </tr>\n",
       "    <tr>\n",
       "      <th>2</th>\n",
       "      <td>Senior U.S. Republican senator: 'Let Mr. Muell...</td>\n",
       "      <td>WASHINGTON (Reuters) - The special counsel inv...</td>\n",
       "      <td>politicsNews</td>\n",
       "      <td>December 31, 2017</td>\n",
       "      <td>1</td>\n",
       "    </tr>\n",
       "    <tr>\n",
       "      <th>3</th>\n",
       "      <td>FBI Russia probe helped by Australian diplomat...</td>\n",
       "      <td>WASHINGTON (Reuters) - Trump campaign adviser ...</td>\n",
       "      <td>politicsNews</td>\n",
       "      <td>December 30, 2017</td>\n",
       "      <td>1</td>\n",
       "    </tr>\n",
       "    <tr>\n",
       "      <th>4</th>\n",
       "      <td>Trump wants Postal Service to charge 'much mor...</td>\n",
       "      <td>SEATTLE/WASHINGTON (Reuters) - President Donal...</td>\n",
       "      <td>politicsNews</td>\n",
       "      <td>December 29, 2017</td>\n",
       "      <td>1</td>\n",
       "    </tr>\n",
       "  </tbody>\n",
       "</table>\n",
       "</div>"
      ],
      "text/plain": [
       "                                               title  \\\n",
       "0  As U.S. budget fight looms, Republicans flip t...   \n",
       "1  U.S. military to accept transgender recruits o...   \n",
       "2  Senior U.S. Republican senator: 'Let Mr. Muell...   \n",
       "3  FBI Russia probe helped by Australian diplomat...   \n",
       "4  Trump wants Postal Service to charge 'much mor...   \n",
       "\n",
       "                                                text       subject  \\\n",
       "0  WASHINGTON (Reuters) - The head of a conservat...  politicsNews   \n",
       "1  WASHINGTON (Reuters) - Transgender people will...  politicsNews   \n",
       "2  WASHINGTON (Reuters) - The special counsel inv...  politicsNews   \n",
       "3  WASHINGTON (Reuters) - Trump campaign adviser ...  politicsNews   \n",
       "4  SEATTLE/WASHINGTON (Reuters) - President Donal...  politicsNews   \n",
       "\n",
       "                 date  label  \n",
       "0  December 31, 2017       1  \n",
       "1  December 29, 2017       1  \n",
       "2  December 31, 2017       1  \n",
       "3  December 30, 2017       1  \n",
       "4  December 29, 2017       1  "
      ]
     },
     "execution_count": 4,
     "metadata": {},
     "output_type": "execute_result"
    }
   ],
   "source": [
    "#True dataset\n",
    "true_df.head()"
   ]
  },
  {
   "cell_type": "code",
   "execution_count": 5,
   "id": "1dc54001",
   "metadata": {},
   "outputs": [
    {
     "data": {
      "text/html": [
       "<div>\n",
       "<style scoped>\n",
       "    .dataframe tbody tr th:only-of-type {\n",
       "        vertical-align: middle;\n",
       "    }\n",
       "\n",
       "    .dataframe tbody tr th {\n",
       "        vertical-align: top;\n",
       "    }\n",
       "\n",
       "    .dataframe thead th {\n",
       "        text-align: right;\n",
       "    }\n",
       "</style>\n",
       "<table border=\"1\" class=\"dataframe\">\n",
       "  <thead>\n",
       "    <tr style=\"text-align: right;\">\n",
       "      <th></th>\n",
       "      <th>title</th>\n",
       "      <th>text</th>\n",
       "      <th>subject</th>\n",
       "      <th>date</th>\n",
       "      <th>label</th>\n",
       "    </tr>\n",
       "  </thead>\n",
       "  <tbody>\n",
       "    <tr>\n",
       "      <th>0</th>\n",
       "      <td>Donald Trump Sends Out Embarrassing New Year’...</td>\n",
       "      <td>Donald Trump just couldn t wish all Americans ...</td>\n",
       "      <td>News</td>\n",
       "      <td>December 31, 2017</td>\n",
       "      <td>0</td>\n",
       "    </tr>\n",
       "    <tr>\n",
       "      <th>1</th>\n",
       "      <td>Drunk Bragging Trump Staffer Started Russian ...</td>\n",
       "      <td>House Intelligence Committee Chairman Devin Nu...</td>\n",
       "      <td>News</td>\n",
       "      <td>December 31, 2017</td>\n",
       "      <td>0</td>\n",
       "    </tr>\n",
       "    <tr>\n",
       "      <th>2</th>\n",
       "      <td>Sheriff David Clarke Becomes An Internet Joke...</td>\n",
       "      <td>On Friday, it was revealed that former Milwauk...</td>\n",
       "      <td>News</td>\n",
       "      <td>December 30, 2017</td>\n",
       "      <td>0</td>\n",
       "    </tr>\n",
       "    <tr>\n",
       "      <th>3</th>\n",
       "      <td>Trump Is So Obsessed He Even Has Obama’s Name...</td>\n",
       "      <td>On Christmas day, Donald Trump announced that ...</td>\n",
       "      <td>News</td>\n",
       "      <td>December 29, 2017</td>\n",
       "      <td>0</td>\n",
       "    </tr>\n",
       "    <tr>\n",
       "      <th>4</th>\n",
       "      <td>Pope Francis Just Called Out Donald Trump Dur...</td>\n",
       "      <td>Pope Francis used his annual Christmas Day mes...</td>\n",
       "      <td>News</td>\n",
       "      <td>December 25, 2017</td>\n",
       "      <td>0</td>\n",
       "    </tr>\n",
       "  </tbody>\n",
       "</table>\n",
       "</div>"
      ],
      "text/plain": [
       "                                               title  \\\n",
       "0   Donald Trump Sends Out Embarrassing New Year’...   \n",
       "1   Drunk Bragging Trump Staffer Started Russian ...   \n",
       "2   Sheriff David Clarke Becomes An Internet Joke...   \n",
       "3   Trump Is So Obsessed He Even Has Obama’s Name...   \n",
       "4   Pope Francis Just Called Out Donald Trump Dur...   \n",
       "\n",
       "                                                text subject  \\\n",
       "0  Donald Trump just couldn t wish all Americans ...    News   \n",
       "1  House Intelligence Committee Chairman Devin Nu...    News   \n",
       "2  On Friday, it was revealed that former Milwauk...    News   \n",
       "3  On Christmas day, Donald Trump announced that ...    News   \n",
       "4  Pope Francis used his annual Christmas Day mes...    News   \n",
       "\n",
       "                date  label  \n",
       "0  December 31, 2017      0  \n",
       "1  December 31, 2017      0  \n",
       "2  December 30, 2017      0  \n",
       "3  December 29, 2017      0  \n",
       "4  December 25, 2017      0  "
      ]
     },
     "execution_count": 5,
     "metadata": {},
     "output_type": "execute_result"
    }
   ],
   "source": [
    "#Fake dataset\n",
    "false_df.head()"
   ]
  },
  {
   "cell_type": "markdown",
   "id": "3d40e1a5",
   "metadata": {},
   "source": [
    "## Step 3: Data Preprocessing"
   ]
  },
  {
   "cell_type": "code",
   "execution_count": 6,
   "id": "68009ad3",
   "metadata": {},
   "outputs": [],
   "source": [
    "# Drop rows where 'text' or 'title' is not a string\n",
    "data = data[data['text'].apply(lambda x: isinstance(x, str))]\n",
    "data = data[data['title'].apply(lambda x: isinstance(x, str))]"
   ]
  },
  {
   "cell_type": "code",
   "execution_count": 7,
   "id": "174fa677",
   "metadata": {},
   "outputs": [],
   "source": [
    "# Lowercasing and tokenization\n",
    "data['text'] = data['text'].str.lower()\n",
    "data['title'] = data['title'].str.lower()\n",
    "data['text'] = data['text'].apply(nltk.word_tokenize)\n",
    "data['title'] = data['title'].apply(nltk.word_tokenize)\n",
    "\n",
    "# Remove stopwords\n",
    "stop_words = set(stopwords.words('english'))\n",
    "data['text'] = data['text'].apply(lambda x: [word for word in x if word not in stop_words])\n",
    "data['title'] = data['title'].apply(lambda x: [word for word in x if word not in stop_words])"
   ]
  },
  {
   "cell_type": "markdown",
   "id": "f115a628",
   "metadata": {},
   "source": [
    "## Step 4: Feature Extraction (TF-IDF)"
   ]
  },
  {
   "cell_type": "code",
   "execution_count": 8,
   "id": "1be37121",
   "metadata": {},
   "outputs": [],
   "source": [
    "tfidf_vectorizer = TfidfVectorizer(max_features=5000)\n",
    "text_tfidf = tfidf_vectorizer.fit_transform(data['text'].apply(lambda x: ' '.join(x)))\n",
    "title_tfidf = tfidf_vectorizer.transform(data['title'].apply(lambda x: ' '.join(x)))"
   ]
  },
  {
   "cell_type": "markdown",
   "id": "7fd173f7",
   "metadata": {},
   "source": [
    "## Step 5: Split the Data into Training and Testing Sets"
   ]
  },
  {
   "cell_type": "code",
   "execution_count": 9,
   "id": "5dbc7983",
   "metadata": {},
   "outputs": [
    {
     "name": "stdout",
     "output_type": "stream",
     "text": [
      "X_train shape: (35918, 5000)\n",
      "X_test shape: (8980, 5000)\n",
      "y_train shape: (35918,)\n",
      "y_test shape: (8980,)\n"
     ]
    }
   ],
   "source": [
    "X = text_tfidf\n",
    "y = data['label']\n",
    "\n",
    "X_train, X_test, y_train, y_test = train_test_split(X, y, test_size=0.2, random_state=42)\n",
    "# Display the shapes of training and testing data\n",
    "print(f\"X_train shape: {X_train.shape}\")\n",
    "print(f\"X_test shape: {X_test.shape}\")\n",
    "print(f\"y_train shape: {y_train.shape}\")\n",
    "print(f\"y_test shape: {y_test.shape}\")"
   ]
  },
  {
   "cell_type": "markdown",
   "id": "2fc86724",
   "metadata": {},
   "source": [
    "# Step 6: Model Training\n",
    "\n",
    " Training our model with different algorithms using the training data and evaluating its performance on the testing data.\n",
    "\n"
   ]
  },
  {
   "cell_type": "markdown",
   "id": "8e1bf3a1",
   "metadata": {},
   "source": [
    "# **Multinomial Naive Bayes Model**"
   ]
  },
  {
   "cell_type": "code",
   "execution_count": 10,
   "id": "498e7697",
   "metadata": {},
   "outputs": [
    {
     "name": "stdout",
     "output_type": "stream",
     "text": [
      "Accuracy: 0.94\n"
     ]
    },
    {
     "data": {
      "image/png": "[encoded data removed]",
      "text/plain": [
       "<Figure size 800x600 with 2 Axes>"
      ]
     },
     "metadata": {},
     "output_type": "display_data"
    },
    {
     "name": "stdout",
     "output_type": "stream",
     "text": [
      "Classification Report:\n",
      "              precision    recall  f1-score   support\n",
      "\n",
      "           0       0.94      0.95      0.94      4650\n",
      "           1       0.94      0.94      0.94      4330\n",
      "\n",
      "    accuracy                           0.94      8980\n",
      "   macro avg       0.94      0.94      0.94      8980\n",
      "weighted avg       0.94      0.94      0.94      8980\n",
      "\n"
     ]
    }
   ],
   "source": [
    "# Initialize and train the Multinomial Naive Bayes model\n",
    "naive_bayes_model = MultinomialNB()\n",
    "naive_bayes_model.fit(X_train, y_train)\n",
    "\n",
    "# Predict on the test data\n",
    "y_pred = naive_bayes_model.predict(X_test)\n",
    "\n",
    "# Evaluate the model\n",
    "accuracy = accuracy_score(y_test, y_pred)\n",
    "confusion = confusion_matrix(y_test, y_pred)\n",
    "classification_rep = classification_report(y_test, y_pred)\n",
    "\n",
    "# Format and display the metrics\n",
    "print(f\"Accuracy: {accuracy:.2f}\")\n",
    "\n",
    "# Plot the confusion matrix\n",
    "plt.figure(figsize=(8, 6))\n",
    "sns.heatmap(confusion, annot=True, fmt='d', cmap='Blues', xticklabels=['Fake', 'True'], yticklabels=['Fake', 'True'])\n",
    "plt.xlabel('Predicted')\n",
    "plt.ylabel('Actual')\n",
    "plt.title('Confusion Matrix')\n",
    "plt.show()\n",
    "\n",
    "# Print the classification report\n",
    "print(\"Classification Report:\")\n",
    "print(classification_rep)\n"
   ]
  },
  {
   "cell_type": "markdown",
   "id": "9bf4e789",
   "metadata": {},
   "source": [
    "# **Decision Tree**"
   ]
  },
  {
   "cell_type": "code",
   "execution_count": 11,
   "id": "a4cdf9fc",
   "metadata": {},
   "outputs": [
    {
     "name": "stdout",
     "output_type": "stream",
     "text": [
      "Decision Tree Accuracy: 0.9972160356347439\n",
      "Decision Tree Confusion Matrix:\n",
      " [[4640   10]\n",
      " [  15 4315]]\n",
      "Decision Tree Classification Report:\n",
      "               precision    recall  f1-score   support\n",
      "\n",
      "           0       1.00      1.00      1.00      4650\n",
      "           1       1.00      1.00      1.00      4330\n",
      "\n",
      "    accuracy                           1.00      8980\n",
      "   macro avg       1.00      1.00      1.00      8980\n",
      "weighted avg       1.00      1.00      1.00      8980\n",
      "\n"
     ]
    }
   ],
   "source": [
    "from sklearn.tree import DecisionTreeClassifier\n",
    "\n",
    "# Define and train the Decision Tree model\n",
    "decision_tree = DecisionTreeClassifier()\n",
    "decision_tree.fit(X_train, y_train)\n",
    "\n",
    "# Evaluate the Decision Tree model\n",
    "def evaluate_decision_tree(model, X_test, y_test):\n",
    "    y_pred = model.predict(X_test)\n",
    "    accuracy = accuracy_score(y_test, y_pred)\n",
    "    confusion = confusion_matrix(y_test, y_pred)\n",
    "    classification_rep = classification_report(y_test, y_pred)\n",
    "\n",
    "    return accuracy, confusion, classification_rep\n",
    "\n",
    "# Evaluate Decision Tree\n",
    "dt_accuracy, dt_confusion, dt_classification = evaluate_decision_tree(decision_tree, X_test, y_test)\n",
    "print(\"Decision Tree Accuracy:\", dt_accuracy)\n",
    "print(\"Decision Tree Confusion Matrix:\\n\", dt_confusion)\n",
    "print(\"Decision Tree Classification Report:\\n\", dt_classification)\n"
   ]
  },
  {
   "cell_type": "markdown",
   "id": "72689f04",
   "metadata": {},
   "source": [
    "# **Passive Aggressive Classifier**"
   ]
  },
  {
   "cell_type": "code",
   "execution_count": 12,
   "id": "78a2e7d7",
   "metadata": {},
   "outputs": [
    {
     "name": "stdout",
     "output_type": "stream",
     "text": [
      "Passive Aggressive Classifier Accuracy: 0.9967706013363029\n",
      "Passive Aggressive Classifier Confusion Matrix:\n",
      " [[4632   18]\n",
      " [  11 4319]]\n",
      "Passive Aggressive Classifier Classification Report:\n",
      "               precision    recall  f1-score   support\n",
      "\n",
      "           0       1.00      1.00      1.00      4650\n",
      "           1       1.00      1.00      1.00      4330\n",
      "\n",
      "    accuracy                           1.00      8980\n",
      "   macro avg       1.00      1.00      1.00      8980\n",
      "weighted avg       1.00      1.00      1.00      8980\n",
      "\n"
     ]
    }
   ],
   "source": [
    "from sklearn.linear_model import PassiveAggressiveClassifier\n",
    "\n",
    "# Define and train the Passive Aggressive Classifier model\n",
    "passive_aggressive = PassiveAggressiveClassifier()\n",
    "passive_aggressive.fit(X_train, y_train)\n",
    "\n",
    "# Evaluate the Passive Aggressive Classifier model\n",
    "def evaluate_passive_aggressive(model, X_test, y_test):\n",
    "    y_pred = model.predict(X_test)\n",
    "    accuracy = accuracy_score(y_test, y_pred)\n",
    "    confusion = confusion_matrix(y_test, y_pred)\n",
    "    classification_rep = classification_report(y_test, y_pred)\n",
    "\n",
    "    return accuracy, confusion, classification_rep\n",
    "\n",
    "# Evaluate Passive Aggressive Classifier\n",
    "pa_accuracy, pa_confusion, pa_classification = evaluate_passive_aggressive(passive_aggressive, X_test, y_test)\n",
    "print(\"Passive Aggressive Classifier Accuracy:\", pa_accuracy)\n",
    "print(\"Passive Aggressive Classifier Confusion Matrix:\\n\", pa_confusion)\n",
    "print(\"Passive Aggressive Classifier Classification Report:\\n\", pa_classification)"
   ]
  },
  {
   "cell_type": "markdown",
   "id": "e862c6da",
   "metadata": {},
   "source": [
    "# **Random forest**"
   ]
  },
  {
   "cell_type": "code",
   "execution_count": 13,
   "id": "b022b82f",
   "metadata": {},
   "outputs": [
    {
     "name": "stdout",
     "output_type": "stream",
     "text": [
      "Random Forest Accuracy: 0.9978841870824053\n",
      "Random Forest Confusion Matrix:\n",
      " [[4639   11]\n",
      " [   8 4322]]\n",
      "Random Forest Classification Report:\n",
      "               precision    recall  f1-score   support\n",
      "\n",
      "           0       1.00      1.00      1.00      4650\n",
      "           1       1.00      1.00      1.00      4330\n",
      "\n",
      "    accuracy                           1.00      8980\n",
      "   macro avg       1.00      1.00      1.00      8980\n",
      "weighted avg       1.00      1.00      1.00      8980\n",
      "\n"
     ]
    }
   ],
   "source": [
    "from sklearn.ensemble import RandomForestClassifier\n",
    "\n",
    "# Define and train the Random Forest model\n",
    "random_forest = RandomForestClassifier(n_estimators=100)\n",
    "random_forest.fit(X_train, y_train)\n",
    "\n",
    "# Evaluate the Random Forest model\n",
    "def evaluate_random_forest(model, X_test, y_test):\n",
    "    y_pred = model.predict(X_test)\n",
    "    accuracy = accuracy_score(y_test, y_pred)\n",
    "    confusion = confusion_matrix(y_test, y_pred)\n",
    "    classification_rep = classification_report(y_test, y_pred)\n",
    "\n",
    "    return accuracy, confusion, classification_rep\n",
    "\n",
    "# Evaluate Random Forest\n",
    "rf_accuracy, rf_confusion, rf_classification = evaluate_random_forest(random_forest, X_test, y_test)\n",
    "print(\"Random Forest Accuracy:\", rf_accuracy)\n",
    "print(\"Random Forest Confusion Matrix:\\n\", rf_confusion)\n",
    "print(\"Random Forest Classification Report:\\n\", rf_classification)"
   ]
  },
  {
   "cell_type": "markdown",
   "id": "bc767aea",
   "metadata": {},
   "source": [
    "# **Logistic Regression**"
   ]
  },
  {
   "cell_type": "code",
   "execution_count": 14,
   "id": "4fdcce2a",
   "metadata": {},
   "outputs": [
    {
     "name": "stdout",
     "output_type": "stream",
     "text": [
      "Logistic Regression Accuracy: 0.9922048997772829\n",
      "Logistic Regression Confusion Matrix:\n",
      " [[4603   47]\n",
      " [  23 4307]]\n",
      "Logistic Regression Classification Report:\n",
      "               precision    recall  f1-score   support\n",
      "\n",
      "           0       1.00      0.99      0.99      4650\n",
      "           1       0.99      0.99      0.99      4330\n",
      "\n",
      "    accuracy                           0.99      8980\n",
      "   macro avg       0.99      0.99      0.99      8980\n",
      "weighted avg       0.99      0.99      0.99      8980\n",
      "\n"
     ]
    }
   ],
   "source": [
    "from sklearn.linear_model import LogisticRegression\n",
    "\n",
    "# Define and train the Logistic Regression model\n",
    "logistic_regression = LogisticRegression()\n",
    "logistic_regression.fit(X_train, y_train)\n",
    "\n",
    "# Evaluate the Logistic Regression model\n",
    "def evaluate_logistic_regression(model, X_test, y_test):\n",
    "    y_pred = model.predict(X_test)\n",
    "    accuracy = accuracy_score(y_test, y_pred)\n",
    "    confusion = confusion_matrix(y_test, y_pred)\n",
    "    classification_rep = classification_report(y_test, y_pred)\n",
    "\n",
    "    return accuracy, confusion, classification_rep\n",
    "\n",
    "# Evaluate Logistic Regression\n",
    "lr_accuracy, lr_confusion, lr_classification = evaluate_logistic_regression(logistic_regression, X_test, y_test)\n",
    "print(\"Logistic Regression Accuracy:\", lr_accuracy)\n",
    "print(\"Logistic Regression Confusion Matrix:\\n\", lr_confusion)\n",
    "print(\"Logistic Regression Classification Report:\\n\", lr_classification)\n"
   ]
  },
  {
   "cell_type": "markdown",
   "id": "a5318700",
   "metadata": {},
   "source": [
    "# Step 7: Model Validation and Evaluation"
   ]
  },
  {
   "cell_type": "markdown",
   "id": "4cdfd0b3",
   "metadata": {},
   "source": [
    "# **Logistic Regression**"
   ]
  },
  {
   "cell_type": "code",
   "execution_count": 15,
   "id": "14fa4aba",
   "metadata": {},
   "outputs": [
    {
     "name": "stdout",
     "output_type": "stream",
     "text": [
      "Logistic Regression Test Precision: 0.9892053284336243\n",
      "Logistic Regression Test Recall: 0.994688221709007\n",
      "Logistic Regression Test F1 Score: 0.991939198526025\n"
     ]
    }
   ],
   "source": [
    "from sklearn.metrics import precision_score, recall_score, f1_score\n",
    "\n",
    "# Testing and evaluating Logistic Regression\n",
    "lr_test_predictions = logistic_regression.predict(X_test)\n",
    "lr_test_precision = precision_score(y_test, lr_test_predictions)\n",
    "lr_test_recall = recall_score(y_test, lr_test_predictions)\n",
    "lr_test_f1 = f1_score(y_test, lr_test_predictions)\n",
    "\n",
    "# Print precision, recall, and F1 score for Logistic Regression\n",
    "print(\"Logistic Regression Test Precision:\", lr_test_precision)\n",
    "print(\"Logistic Regression Test Recall:\", lr_test_recall)\n",
    "print(\"Logistic Regression Test F1 Score:\", lr_test_f1)\n",
    "\n",
    "# Repeat the testing and evaluation for the other classifiers (Random Forest, Passive Aggressive, Decision Tree)"
   ]
  },
  {
   "cell_type": "markdown",
   "id": "5d4b9475",
   "metadata": {},
   "source": [
    "# **Random forest**"
   ]
  },
  {
   "cell_type": "code",
   "execution_count": 16,
   "id": "dd8ea9f0",
   "metadata": {},
   "outputs": [
    {
     "name": "stdout",
     "output_type": "stream",
     "text": [
      "Random Forest Test Precision: 0.9974613431802446\n",
      "Random Forest Test Recall: 0.9981524249422633\n",
      "Random Forest Test F1 Score: 0.9978067644003231\n"
     ]
    }
   ],
   "source": [
    "from sklearn.metrics import precision_score, recall_score, f1_score\n",
    "\n",
    "# Testing the Random Forest model on the test data\n",
    "rf_test_predictions = random_forest.predict(X_test)\n",
    "\n",
    "# Evaluate Random Forest on the test data\n",
    "rf_test_precision = precision_score(y_test, rf_test_predictions)\n",
    "rf_test_recall = recall_score(y_test, rf_test_predictions)\n",
    "rf_test_f1 = f1_score(y_test, rf_test_predictions)\n",
    "\n",
    "# Print precision, recall, and F1 score for Random Forest\n",
    "print(\"Random Forest Test Precision:\", rf_test_precision)\n",
    "print(\"Random Forest Test Recall:\", rf_test_recall)\n",
    "print(\"Random Forest Test F1 Score:\", rf_test_f1)"
   ]
  },
  {
   "cell_type": "markdown",
   "id": "8b2c71f4",
   "metadata": {},
   "source": [
    "# **Passive Aggressive Classifier**"
   ]
  },
  {
   "cell_type": "code",
   "execution_count": 17,
   "id": "4561a2f8",
   "metadata": {},
   "outputs": [
    {
     "name": "stdout",
     "output_type": "stream",
     "text": [
      "Passive Aggressive Classifier Test Precision: 0.9958496656675121\n",
      "Passive Aggressive Classifier Test Recall: 0.997459584295612\n",
      "Passive Aggressive Classifier Test F1 Score: 0.9966539748471213\n"
     ]
    }
   ],
   "source": [
    "from sklearn.metrics import precision_score, recall_score, f1_score\n",
    "\n",
    "# Testing the Passive Aggressive Classifier model on the test data\n",
    "pa_test_predictions = passive_aggressive.predict(X_test)\n",
    "\n",
    "# Evaluate Passive Aggressive Classifier on the test data\n",
    "pa_test_precision = precision_score(y_test, pa_test_predictions)\n",
    "pa_test_recall = recall_score(y_test, pa_test_predictions)\n",
    "pa_test_f1 = f1_score(y_test, pa_test_predictions)\n",
    "\n",
    "# Print precision, recall, and F1 score for Passive Aggressive Classifier\n",
    "print(\"Passive Aggressive Classifier Test Precision:\", pa_test_precision)\n",
    "print(\"Passive Aggressive Classifier Test Recall:\", pa_test_recall)\n",
    "print(\"Passive Aggressive Classifier Test F1 Score:\", pa_test_f1)"
   ]
  },
  {
   "cell_type": "markdown",
   "id": "d9a5d5ec",
   "metadata": {},
   "source": [
    "# **Decision Tree**"
   ]
  },
  {
   "cell_type": "code",
   "execution_count": 18,
   "id": "48c79f85",
   "metadata": {},
   "outputs": [
    {
     "name": "stdout",
     "output_type": "stream",
     "text": [
      "Decision Tree Test Precision: 0.9976878612716763\n",
      "Decision Tree Test Recall: 0.9965357967667436\n",
      "Decision Tree Test F1 Score: 0.997111496244945\n"
     ]
    }
   ],
   "source": [
    "from sklearn.metrics import precision_score, recall_score, f1_score\n",
    "\n",
    "# Testing the Decision Tree model on the test data\n",
    "dt_test_predictions = decision_tree.predict(X_test)\n",
    "\n",
    "# Evaluate Decision Tree on the test data\n",
    "dt_test_precision = precision_score(y_test, dt_test_predictions)\n",
    "dt_test_recall = recall_score(y_test, dt_test_predictions)\n",
    "dt_test_f1 = f1_score(y_test, dt_test_predictions)\n",
    "\n",
    "# Print precision, recall, and F1 score for Decision Tree\n",
    "print(\"Decision Tree Test Precision:\", dt_test_precision)\n",
    "print(\"Decision Tree Test Recall:\", dt_test_recall)\n",
    "print(\"Decision Tree Test F1 Score:\", dt_test_f1)"
   ]
  },
  {
   "cell_type": "markdown",
   "id": "d2ae2b72",
   "metadata": {},
   "source": [
    "# **DEEP LEARNING MODELS**"
   ]
  },
  {
   "cell_type": "markdown",
   "id": "ce6ada4a",
   "metadata": {},
   "source": [
    "# **Prepare Sequences for Deep Learning**"
   ]
  },
  {
   "cell_type": "code",
   "execution_count": 19,
   "id": "528d4fc6",
   "metadata": {},
   "outputs": [
    {
     "name": "stdout",
     "output_type": "stream",
     "text": [
      "WARNING:tensorflow:From C:\\Users\\LENOVO\\anaconda3\\lib\\site-packages\\keras\\src\\losses.py:2976: The name tf.losses.sparse_softmax_cross_entropy is deprecated. Please use tf.compat.v1.losses.sparse_softmax_cross_entropy instead.\n",
      "\n"
     ]
    }
   ],
   "source": [
    "from tensorflow.keras.preprocessing.text import Tokenizer\n",
    "from tensorflow.keras.preprocessing.sequence import pad_sequences\n",
    "\n",
    "# Initialize tokenizer for top 5000 words and out-of-vocab token\n",
    "tokenizer = Tokenizer(num_words=5000, oov_token='<OOV>')\n",
    "\n",
    "# Fit tokenizer on cleaned text (joined tokens)\n",
    "tokenizer.fit_on_texts(data['text'].apply(lambda x: ' '.join(x)))\n",
    "\n",
    "# Convert text to sequences\n",
    "X_text_sequences = tokenizer.texts_to_sequences(data['text'].apply(lambda x: ' '.join(x)))\n",
    "\n",
    "# Pad the sequences\n",
    "max_length = 100\n",
    "X_text_padded = pad_sequences(X_text_sequences, maxlen=max_length, padding='post', truncating='post')"
   ]
  },
  {
   "cell_type": "code",
   "execution_count": 20,
   "id": "d2921c0a",
   "metadata": {},
   "outputs": [
    {
     "name": "stdout",
     "output_type": "stream",
     "text": [
      "Train shape: (35918, 100)\n",
      "Test shape: (8980, 100)\n"
     ]
    }
   ],
   "source": [
    "from sklearn.model_selection import train_test_split\n",
    "\n",
    "# Use previously padded sequences\n",
    "X = X_text_padded\n",
    "y = data['label'].values\n",
    "\n",
    "# Split into training and test sets\n",
    "X_train_dl, X_test_dl, y_train_dl, y_test_dl = train_test_split(X, y, test_size=0.2, random_state=42)\n",
    "\n",
    "# Check shapes\n",
    "print(\"Train shape:\", X_train_dl.shape)\n",
    "print(\"Test shape:\", X_test_dl.shape)"
   ]
  },
  {
   "cell_type": "code",
   "execution_count": 21,
   "id": "cb8260a0",
   "metadata": {},
   "outputs": [
    {
     "name": "stdout",
     "output_type": "stream",
     "text": [
      "WARNING:tensorflow:From C:\\Users\\LENOVO\\anaconda3\\lib\\site-packages\\keras\\src\\backend.py:873: The name tf.get_default_graph is deprecated. Please use tf.compat.v1.get_default_graph instead.\n",
      "\n",
      "WARNING:tensorflow:From C:\\Users\\LENOVO\\anaconda3\\lib\\site-packages\\keras\\src\\optimizers\\__init__.py:309: The name tf.train.Optimizer is deprecated. Please use tf.compat.v1.train.Optimizer instead.\n",
      "\n",
      "Model: \"sequential\"\n",
      "_________________________________________________________________\n",
      " Layer (type)                Output Shape              Param #   \n",
      "=================================================================\n",
      " embedding (Embedding)       (None, 100, 128)          640000    \n",
      "                                                                 \n",
      " simple_rnn (SimpleRNN)      (None, 128)               32896     \n",
      "                                                                 \n",
      " dropout (Dropout)           (None, 128)               0         \n",
      "                                                                 \n",
      " dense (Dense)               (None, 1)                 129       \n",
      "                                                                 \n",
      "=================================================================\n",
      "Total params: 673025 (2.57 MB)\n",
      "Trainable params: 673025 (2.57 MB)\n",
      "Non-trainable params: 0 (0.00 Byte)\n",
      "_________________________________________________________________\n"
     ]
    }
   ],
   "source": [
    "from tensorflow.keras.models import Sequential\n",
    "from tensorflow.keras.layers import Embedding, SimpleRNN, Dense, Dropout\n",
    "\n",
    "# Build the RNN model for fake news detection\n",
    "def build_rnn_model(input_length):\n",
    "    model = Sequential()\n",
    "    model.add(Embedding(input_dim=5000, output_dim=128, input_length=input_length))  # Embedding layer\n",
    "    model.add(SimpleRNN(128, return_sequences=False))  # RNN layer\n",
    "    model.add(Dropout(0.2))  # Dropout for regularization\n",
    "    model.add(Dense(1, activation='sigmoid'))  # Sigmoid output for binary classification\n",
    "\n",
    "    model.compile(optimizer='adam', loss='binary_crossentropy', metrics=['accuracy'])  # Compile model\n",
    "    return model\n",
    "\n",
    "# Build the model\n",
    "rnn_model = build_rnn_model(100)\n",
    "\n",
    "# Model summary to check architecture\n",
    "rnn_model.summary()"
   ]
  },
  {
   "cell_type": "code",
   "execution_count": 22,
   "id": "1f40a1c8",
   "metadata": {},
   "outputs": [
    {
     "name": "stdout",
     "output_type": "stream",
     "text": [
      "Epoch 1/5\n",
      "WARNING:tensorflow:From C:\\Users\\LENOVO\\anaconda3\\lib\\site-packages\\keras\\src\\utils\\tf_utils.py:492: The name tf.ragged.RaggedTensorValue is deprecated. Please use tf.compat.v1.ragged.RaggedTensorValue instead.\n",
      "\n",
      "WARNING:tensorflow:From C:\\Users\\LENOVO\\anaconda3\\lib\\site-packages\\keras\\src\\engine\\base_layer_utils.py:384: The name tf.executing_eagerly_outside_functions is deprecated. Please use tf.compat.v1.executing_eagerly_outside_functions instead.\n",
      "\n",
      "562/562 [==============================] - 47s 73ms/step - loss: 0.1528 - accuracy: 0.9377 - val_loss: 0.0511 - val_accuracy: 0.9883\n",
      "Epoch 2/5\n",
      "562/562 [==============================] - 43s 77ms/step - loss: 0.0327 - accuracy: 0.9925 - val_loss: 0.0486 - val_accuracy: 0.9885\n",
      "Epoch 3/5\n",
      "562/562 [==============================] - 42s 75ms/step - loss: 0.0236 - accuracy: 0.9948 - val_loss: 0.0348 - val_accuracy: 0.9915\n",
      "Epoch 4/5\n",
      "562/562 [==============================] - 43s 76ms/step - loss: 0.0213 - accuracy: 0.9948 - val_loss: 0.0371 - val_accuracy: 0.9929\n",
      "Epoch 5/5\n",
      "562/562 [==============================] - 43s 76ms/step - loss: 0.0101 - accuracy: 0.9977 - val_loss: 0.0291 - val_accuracy: 0.9932\n"
     ]
    },
    {
     "data": {
      "image/png": "[encoded data removed]",
      "text/plain": [
       "<Figure size 1200x600 with 1 Axes>"
      ]
     },
     "metadata": {},
     "output_type": "display_data"
    }
   ],
   "source": [
    "# Train the RNN model with the correct training data\n",
    "history_rnn = rnn_model.fit(X_train_dl, y_train_dl, epochs=5, batch_size=64, validation_data=(X_test_dl, y_test_dl))\n",
    "\n",
    "# Plotting training and validation accuracy\n",
    "import matplotlib.pyplot as plt\n",
    "\n",
    "plt.figure(figsize=(12, 6))\n",
    "plt.plot(history_rnn.history['accuracy'], label='RNN Train Accuracy')\n",
    "plt.plot(history_rnn.history['val_accuracy'], label='RNN Validation Accuracy')\n",
    "plt.title('RNN Model Accuracy')\n",
    "plt.xlabel('Epochs')\n",
    "plt.ylabel('Accuracy')\n",
    "plt.legend()\n",
    "plt.show()"
   ]
  },
  {
   "cell_type": "code",
   "execution_count": 23,
   "id": "693cc25a",
   "metadata": {
    "scrolled": true
   },
   "outputs": [
    {
     "name": "stdout",
     "output_type": "stream",
     "text": [
      "281/281 [==============================] - 6s 21ms/step - loss: 0.0291 - accuracy: 0.9932\n",
      "RNN Test Accuracy: 0.9932\n"
     ]
    }
   ],
   "source": [
    "# Evaluate the model on the test set\n",
    "rnn_test_loss, rnn_test_accuracy = rnn_model.evaluate(X_test_dl, y_test_dl)\n",
    "print(f\"RNN Test Accuracy: {rnn_test_accuracy:.4f}\")"
   ]
  },
  {
   "cell_type": "code",
   "execution_count": 24,
   "id": "b91aaa06",
   "metadata": {},
   "outputs": [
    {
     "name": "stdout",
     "output_type": "stream",
     "text": [
      "281/281 [==============================] - 6s 20ms/step\n",
      "RNN Test Precision: 0.9960492679525912\n",
      "RNN Test Recall: 0.9898383371824481\n",
      "RNN Test F1 Score: 0.9929340901193096\n"
     ]
    }
   ],
   "source": [
    "from sklearn.metrics import precision_score, recall_score, f1_score\n",
    "\n",
    "# Generate predictions from the RNN model\n",
    "rnn_predictions = rnn_model.predict(X_test_dl)\n",
    "rnn_predictions_binary = (rnn_predictions > 0.5).astype(int)\n",
    "\n",
    "# Now compute the remaining metrics\n",
    "rnn_test_precision = precision_score(y_test_dl, rnn_predictions_binary)\n",
    "rnn_test_recall = recall_score(y_test_dl, rnn_predictions_binary)\n",
    "rnn_test_f1 = f1_score(y_test_dl, rnn_predictions_binary)\n",
    "\n",
    "# Print for reference\n",
    "print(\"RNN Test Precision:\", rnn_test_precision)\n",
    "print(\"RNN Test Recall:\", rnn_test_recall)\n",
    "print(\"RNN Test F1 Score:\", rnn_test_f1)"
   ]
  },
  {
   "cell_type": "markdown",
   "id": "e82e547f",
   "metadata": {},
   "source": [
    "# **BILSTM MODEL**"
   ]
  },
  {
   "cell_type": "code",
   "execution_count": 25,
   "id": "efc6ae43",
   "metadata": {},
   "outputs": [],
   "source": [
    "from tensorflow.keras.layers import LSTM, Bidirectional\n",
    "\n",
    "# Build a BiLSTM model for fake news detection\n",
    "def build_bilstm_model(input_length):\n",
    "    model = Sequential()\n",
    "    model.add(Embedding(input_dim=5000, output_dim=128, input_length=input_length))\n",
    "    model.add(Bidirectional(LSTM(128, return_sequences=False)))  # BiLSTM layer\n",
    "    model.add(Dropout(0.2))  # Dropout for regularization\n",
    "    model.add(Dense(1, activation='sigmoid'))  # Sigmoid for binary classification\n",
    "    \n",
    "    model.compile(optimizer='adam', loss='binary_crossentropy', metrics=['accuracy'])\n",
    "    \n",
    "    return model\n",
    "\n",
    "# Build the BiLSTM model\n",
    "bilstm_model = build_bilstm_model(max_length)"
   ]
  },
  {
   "cell_type": "code",
   "execution_count": 26,
   "id": "508a0648",
   "metadata": {},
   "outputs": [
    {
     "name": "stdout",
     "output_type": "stream",
     "text": [
      "Epoch 1/5\n",
      "562/562 [==============================] - 183s 307ms/step - loss: 0.0465 - accuracy: 0.9830 - val_loss: 0.0081 - val_accuracy: 0.9982\n",
      "Epoch 2/5\n",
      "562/562 [==============================] - 174s 310ms/step - loss: 0.0022 - accuracy: 0.9995 - val_loss: 0.0071 - val_accuracy: 0.9987\n",
      "Epoch 3/5\n",
      "562/562 [==============================] - 180s 321ms/step - loss: 9.7072e-04 - accuracy: 0.9998 - val_loss: 0.0076 - val_accuracy: 0.9988\n",
      "Epoch 4/5\n",
      "562/562 [==============================] - 182s 324ms/step - loss: 0.0011 - accuracy: 0.9998 - val_loss: 0.0062 - val_accuracy: 0.9987\n",
      "Epoch 5/5\n",
      "562/562 [==============================] - 181s 322ms/step - loss: 3.6418e-04 - accuracy: 1.0000 - val_loss: 0.0075 - val_accuracy: 0.9987\n"
     ]
    }
   ],
   "source": [
    "# Train the BiLSTM model\n",
    "history_bilstm = bilstm_model.fit(X_train_dl, y_train_dl, epochs=5, batch_size=64, validation_data=(X_test_dl, y_test_dl))"
   ]
  },
  {
   "cell_type": "code",
   "execution_count": 27,
   "id": "a80c5ad9",
   "metadata": {},
   "outputs": [
    {
     "data": {
      "image/png": "[encoded data removed]",
      "text/plain": [
       "<Figure size 1200x600 with 1 Axes>"
      ]
     },
     "metadata": {},
     "output_type": "display_data"
    }
   ],
   "source": [
    "# Plot training and validation accuracy for BiLSTM\n",
    "plt.figure(figsize=(12, 6))\n",
    "plt.plot(history_bilstm.history['accuracy'], label='BiLSTM Train Accuracy')\n",
    "plt.plot(history_bilstm.history['val_accuracy'], label='BiLSTM Validation Accuracy')\n",
    "plt.title('BiLSTM Model Accuracy')\n",
    "plt.xlabel('Epochs')\n",
    "plt.ylabel('Accuracy')\n",
    "plt.legend()\n",
    "plt.show()"
   ]
  },
  {
   "cell_type": "code",
   "execution_count": 28,
   "id": "1bfbb36d",
   "metadata": {},
   "outputs": [
    {
     "name": "stdout",
     "output_type": "stream",
     "text": [
      "281/281 [==============================] - 18s 62ms/step - loss: 0.0075 - accuracy: 0.9987\n",
      "BiLSTM Test Accuracy: 0.9987\n"
     ]
    }
   ],
   "source": [
    "# Evaluate the BiLSTM model on the test set\n",
    "bilstm_test_loss, bilstm_test_accuracy = bilstm_model.evaluate(X_test_dl, y_test_dl)\n",
    "print(f\"BiLSTM Test Accuracy: {bilstm_test_accuracy:.4f}\")"
   ]
  },
  {
   "cell_type": "code",
   "execution_count": 29,
   "id": "7f1bd54e",
   "metadata": {},
   "outputs": [
    {
     "name": "stdout",
     "output_type": "stream",
     "text": [
      "281/281 [==============================] - 20s 61ms/step\n",
      "BiLSTM Test Precision: 0.9993061979648473\n",
      "BiLSTM Test Recall: 0.9979214780600462\n",
      "BiLSTM Test F1 Score: 0.9986133579847469\n"
     ]
    }
   ],
   "source": [
    "from sklearn.metrics import precision_score, recall_score, f1_score\n",
    "\n",
    "# Get BiLSTM predictions\n",
    "bilstm_predictions = bilstm_model.predict(X_test_dl)\n",
    "bilstm_predictions_binary = (bilstm_predictions > 0.5).astype(int)\n",
    "\n",
    "# Compute metrics\n",
    "bilstm_test_precision = precision_score(y_test_dl, bilstm_predictions_binary)\n",
    "bilstm_test_recall = recall_score(y_test_dl, bilstm_predictions_binary)\n",
    "bilstm_test_f1 = f1_score(y_test_dl, bilstm_predictions_binary)\n",
    "\n",
    "# Print metrics\n",
    "print(\"BiLSTM Test Precision:\", bilstm_test_precision)\n",
    "print(\"BiLSTM Test Recall:\", bilstm_test_recall)\n",
    "print(\"BiLSTM Test F1 Score:\", bilstm_test_f1)"
   ]
  },
  {
   "cell_type": "markdown",
   "id": "97ef2028",
   "metadata": {},
   "source": [
    "# FINAL MODEL COMPARISONS"
   ]
  },
  {
   "cell_type": "code",
   "execution_count": 30,
   "id": "1e702ab4",
   "metadata": {},
   "outputs": [
    {
     "data": {
      "text/plain": [
       "<Figure size 1200x800 with 0 Axes>"
      ]
     },
     "metadata": {},
     "output_type": "display_data"
    },
    {
     "data": {
      "image/png": "[encoded data removed]",
      "text/plain": [
       "<Figure size 1400x800 with 1 Axes>"
      ]
     },
     "metadata": {},
     "output_type": "display_data"
    }
   ],
   "source": [
    "import matplotlib.pyplot as plt\n",
    "import pandas as pd\n",
    "\n",
    "# Define all algorithm names\n",
    "algorithms = [\n",
    "    'Logistic Regression',\n",
    "    'Random Forest',\n",
    "    'Passive Aggressive',\n",
    "    'Decision Tree',\n",
    "    'RNN',\n",
    "    'BiLSTM'\n",
    "]\n",
    "\n",
    "# Define all collected metrics\n",
    "accuracy_scores = [\n",
    "    lr_accuracy,\n",
    "    rf_accuracy,\n",
    "    pa_accuracy,\n",
    "    dt_accuracy,\n",
    "    rnn_test_accuracy,\n",
    "    bilstm_test_accuracy\n",
    "]\n",
    "\n",
    "precision_scores = [\n",
    "    lr_test_precision,\n",
    "    rf_test_precision,\n",
    "    pa_test_precision,\n",
    "    dt_test_precision,\n",
    "    rnn_test_precision,\n",
    "    bilstm_test_precision\n",
    "]\n",
    "\n",
    "recall_scores = [\n",
    "    lr_test_recall,\n",
    "    rf_test_recall,\n",
    "    pa_test_recall,\n",
    "    dt_test_recall,\n",
    "    rnn_test_recall,\n",
    "    bilstm_test_recall\n",
    "]\n",
    "\n",
    "f1_scores = [\n",
    "    lr_test_f1,\n",
    "    rf_test_f1,\n",
    "    pa_test_f1,\n",
    "    dt_test_f1,\n",
    "    rnn_test_f1,\n",
    "    bilstm_test_f1\n",
    "]\n",
    "\n",
    "# Create a DataFrame for comparison\n",
    "results_df = pd.DataFrame({\n",
    "    'Accuracy': accuracy_scores,\n",
    "    'Precision': precision_scores,\n",
    "    'Recall': recall_scores,\n",
    "    'F1 Score': f1_scores\n",
    "}, index=algorithms)\n",
    "\n",
    "# Plot all metrics\n",
    "plt.figure(figsize=(12, 8))\n",
    "results_df.plot(kind='bar', figsize=(14, 8), colormap='Set2', edgecolor='black')\n",
    "plt.title('Algorithm Comparison Across Evaluation Metrics')\n",
    "plt.ylabel('Score')\n",
    "plt.ylim(0.85, 1.01)\n",
    "plt.xticks(rotation=45)\n",
    "plt.grid(axis='y', linestyle='--', alpha=0.7)\n",
    "plt.legend(loc='upper right')\n",
    "plt.tight_layout()\n",
    "plt.show()"
   ]
  },
  {
   "cell_type": "markdown",
   "id": "91cd1880",
   "metadata": {},
   "source": [
    "# **MODEL VALIDATION**\n",
    "## *News Prediction*"
   ]
  },
  {
   "cell_type": "code",
   "execution_count": 41,
   "id": "2b3dcdfe",
   "metadata": {},
   "outputs": [
    {
     "name": "stderr",
     "output_type": "stream",
     "text": [
      "[nltk_data] Downloading package punkt to\n",
      "[nltk_data]     C:\\Users\\LENOVO\\AppData\\Roaming\\nltk_data...\n",
      "[nltk_data]   Package punkt is already up-to-date!\n",
      "[nltk_data] Downloading package stopwords to\n",
      "[nltk_data]     C:\\Users\\LENOVO\\AppData\\Roaming\\nltk_data...\n",
      "[nltk_data]   Package stopwords is already up-to-date!\n"
     ]
    },
    {
     "name": "stdout",
     "output_type": "stream",
     "text": [
      "1/1 [==============================] - 0s 75ms/step\n",
      "1/1 [==============================] - 0s 90ms/step\n",
      "Title 1: \n",
      "Naive Bayes Prediction: True\n",
      "RNN Prediction: True\n",
      "BiLSTM Prediction: True\n",
      "\n",
      "1/1 [==============================] - 0s 121ms/step\n",
      "1/1 [==============================] - 0s 92ms/step\n",
      "Title 2: \n",
      "Naive Bayes Prediction: True\n",
      "RNN Prediction: True\n",
      "BiLSTM Prediction: True\n"
     ]
    }
   ],
   "source": [
    "import nltk\n",
    "from nltk.corpus import stopwords\n",
    "from tensorflow.keras.preprocessing.sequence import pad_sequences\n",
    "from tensorflow.keras.preprocessing.text import Tokenizer\n",
    "\n",
    "# Ensure you have downloaded necessary NLTK resources\n",
    "nltk.download('punkt')\n",
    "nltk.download('stopwords')\n",
    "\n",
    "stop_words = set(stopwords.words('english'))\n",
    "\n",
    "# Define a function to preprocess the title for predictions\n",
    "def preprocess_title(title_text):\n",
    "    preprocessed_title_text = title_text.lower()\n",
    "    preprocessed_title_text = nltk.word_tokenize(preprocessed_title_text)\n",
    "    preprocessed_title_text = [word for word in preprocessed_title_text if word not in stop_words]\n",
    "    return \" \".join(preprocessed_title_text)\n",
    "\n",
    "# Define a function to predict using Naive Bayes, RNN, and BiLSTM models\n",
    "def predict_title(title_text, naive_bayes_model, tfidf_vectorizer, rnn_model, bilstm_model, tokenizer, max_length=100):\n",
    "    # Preprocess the title\n",
    "    preprocessed_title_text = preprocess_title(title_text)\n",
    "\n",
    "    # Predict using Naive Bayes\n",
    "    tfidf_vector = tfidf_vectorizer.transform([preprocessed_title_text])\n",
    "    naive_bayes_prediction = naive_bayes_model.predict(tfidf_vector)\n",
    "    naive_bayes_result = \"True\" if naive_bayes_prediction == 1 else \"Fake\"\n",
    "\n",
    "    # Prepare the text for RNN and BiLSTM models (tokenize and pad)\n",
    "    title_sequence = tokenizer.texts_to_sequences([preprocessed_title_text])\n",
    "    title_padded = pad_sequences(title_sequence, maxlen=max_length, padding='post', truncating='post')\n",
    "\n",
    "    # Predict using RNN\n",
    "    rnn_prediction = rnn_model.predict(title_padded)\n",
    "    rnn_result = \"True\" if rnn_prediction >= 0.0 else \"Fake\"\n",
    "\n",
    "    # Predict using BiLSTM\n",
    "    bilstm_prediction = bilstm_model.predict(title_padded)\n",
    "    bilstm_result = \"True\" if bilstm_prediction >= 0.9 else \"Fake\"\n",
    "\n",
    "    return naive_bayes_result, rnn_result, bilstm_result\n",
    "\n",
    "# Example titles\n",
    "title_text_1 = \"U.S. appeals court rejects challenge to Trump voter fraud panel\"\n",
    "title_text_2 = \"As U.S. budget fight looms, Republicans flip their fiscal script\"\n",
    "\n",
    "# Initialize the Keras Tokenizer (this should be fit on your training data)\n",
    "tokenizer = Tokenizer()\n",
    "tokenizer.fit_on_texts([title_text_1, title_text_2])  # You need to fit tokenizer on your entire dataset, not just these two titles\n",
    "\n",
    "# Predict for the first title\n",
    "naive_bayes_result_1, rnn_result_1, bilstm_result_1 = predict_title(title_text_1, naive_bayes_model, tfidf_vectorizer, rnn_model, bilstm_model, tokenizer)\n",
    "print(f\"Title 1: \\nNaive Bayes Prediction: {naive_bayes_result_1}\\nRNN Prediction: {rnn_result_1}\\nBiLSTM Prediction: {bilstm_result_1}\\n\")\n",
    "\n",
    "# Predict for the second title\n",
    "naive_bayes_result_2, rnn_result_2, bilstm_result_2 = predict_title(title_text_2, naive_bayes_model, tfidf_vectorizer, rnn_model, bilstm_model, tokenizer)\n",
    "print(f\"Title 2: \\nNaive Bayes Prediction: {naive_bayes_result_2}\\nRNN Prediction: {rnn_result_2}\\nBiLSTM Prediction: {bilstm_result_2}\")\n"
   ]
  },
  {
   "cell_type": "code",
   "execution_count": null,
   "id": "86fe117a",
   "metadata": {},
   "outputs": [],
   "source": []
  },
  {
   "cell_type": "code",
   "execution_count": null,
   "id": "5d0d636d",
   "metadata": {},
   "outputs": [],
   "source": []
  }
 ],
 "metadata": {
  "kernelspec": {
   "display_name": "Python 3 (ipykernel)",
   "language": "python",
   "name": "python3"
  },
  "language_info": {
   "codemirror_mode": {
    "name": "ipython",
    "version": 3
   },
   "file_extension": ".py",
   "mimetype": "text/x-python",
   "name": "python",
   "nbconvert_exporter": "python",
   "pygments_lexer": "ipython3",
   "version": "3.9.15"
  }
 },
 "nbformat": 4,
 "nbformat_minor": 5
}
